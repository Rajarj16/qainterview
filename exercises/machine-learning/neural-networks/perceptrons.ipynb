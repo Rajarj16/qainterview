{
  "cells": [
    {
      "cell_type": "markdown",
      "metadata": {
        "id": "KvI4a1PXUQi3"
      },
      "source": [
        "# Perceptrons\n",
        "You should build an end-to-end machine learning pipeline using a perceptron model. In particular, you should do the following:\n",
        "- Load the `mnist` dataset using [Pandas](https://pandas.pydata.org/docs/reference/api/pandas.read_csv.html). You can find this dataset in the datasets folder.\n",
        "- Split the dataset into training and test sets using [Scikit-Learn](https://scikit-learn.org/stable/modules/generated/sklearn.model_selection.train_test_split.html).\n",
        "- Build an end-to-end machine learning pipeline, including a [perceptron](https://scikit-learn.org/stable/modules/generated/sklearn.linear_model.Perceptron.html) model.\n",
        "- Optimize your pipeline by validating your design decisions.\n",
        "- Test the best pipeline on the test set and report various [evaluation metrics](https://scikit-learn.org/0.15/modules/model_evaluation.html).  \n",
        "- Check the documentation to identify the most important hyperparameters, attributes, and methods of the model. Use them in practice."
      ],
      "id": "KvI4a1PXUQi3"
    },
    {
      "cell_type": "code",
      "execution_count": 5,
      "metadata": {
        "id": "puq7lMOFUQi4"
      },
      "outputs": [],
      "source": [
        "import pandas as pd\n",
        "from sklearn.model_selection import train_test_split, GridSearchCV\n",
        "from sklearn.preprocessing import StandardScaler\n",
        "from sklearn.linear_model import Perceptron\n",
        "from sklearn.pipeline import Pipeline\n",
        "from sklearn.metrics import classification_report, accuracy_score\n"
      ],
      "id": "puq7lMOFUQi4"
    },
    {
      "cell_type": "code",
      "source": [
        "# Load dataset from the provided link\n",
        "df = pd.read_csv('https://raw.githubusercontent.com/m-mahdavi/teaching/refs/heads/main/datasets/mnist.csv')\n",
        "\n",
        "# Separate features and target\n",
        "X = df.iloc[:, 1:].values  # Features (pixel values)\n",
        "y = df.iloc[:, 0].values   # Target (digit labels)"
      ],
      "metadata": {
        "id": "rY6Fs16lWIj5"
      },
      "id": "rY6Fs16lWIj5",
      "execution_count": null,
      "outputs": []
    },
    {
      "cell_type": "code",
      "source": [
        "# Split the dataset into training and testing sets\n",
        "X_train, X_test, y_train, y_test = train_test_split(X, y, test_size=0.2, random_state=42, stratify=y)"
      ],
      "metadata": {
        "id": "m-2Dk7khWKcj"
      },
      "id": "m-2Dk7khWKcj",
      "execution_count": null,
      "outputs": []
    },
    {
      "cell_type": "code",
      "source": [
        "# Create a pipeline with scaling and Perceptron model\n",
        "pipeline = Pipeline([\n",
        "    ('scaler', StandardScaler()),  # Standardize the features\n",
        "    ('perceptron', Perceptron(random_state=42))  # Perceptron classifier\n",
        "])"
      ],
      "metadata": {
        "id": "2cNIQMMyWL5-"
      },
      "id": "2cNIQMMyWL5-",
      "execution_count": null,
      "outputs": []
    },
    {
      "cell_type": "code",
      "source": [
        "# Hyperparameter grid for tuning the Perceptron model\n",
        "param_grid = {\n",
        "    'perceptron__penalty': [None, 'l2', 'l1', 'elasticnet'],  # Regularization types\n",
        "    'perceptron__alpha': [0.0001, 0.001, 0.01],  # Regularization strength\n",
        "    'perceptron__max_iter': [1000, 2000],  # Number of iterations\n",
        "    'perceptron__eta0': [1.0, 0.1, 0.01]  # Learning rate\n",
        "}\n",
        "\n",
        "# Initialize GridSearchCV\n",
        "grid = GridSearchCV(pipeline, param_grid, cv=3, scoring='accuracy', n_jobs=-1)\n",
        "\n",
        "# Fit GridSearchCV\n",
        "grid.fit(X_train, y_train)\n",
        "\n",
        "# Output the best parameters found\n",
        "print(\"Best parameters:\", grid.best_params_)"
      ],
      "metadata": {
        "id": "mKK5Kki0WOQl"
      },
      "id": "mKK5Kki0WOQl",
      "execution_count": null,
      "outputs": []
    },
    {
      "cell_type": "code",
      "source": [
        "# Predictions on the test set\n",
        "y_pred = grid.predict(X_test)\n",
        "\n",
        "# Calculate accuracy\n",
        "print(f\"Accuracy: {accuracy_score(y_test, y_pred):.4f}\")\n",
        "\n",
        "# Classification Report\n",
        "print(\"Classification Report:\")\n",
        "print(classification_report(y_test, y_pred))"
      ],
      "metadata": {
        "id": "c6umv7eYWQas"
      },
      "id": "c6umv7eYWQas",
      "execution_count": null,
      "outputs": []
    }
  ],
  "metadata": {
    "kernelspec": {
      "display_name": "Python 3",
      "language": "python",
      "name": "python3"
    },
    "language_info": {
      "codemirror_mode": {
        "name": "ipython",
        "version": 3
      },
      "file_extension": ".py",
      "mimetype": "text/x-python",
      "name": "python",
      "nbconvert_exporter": "python",
      "pygments_lexer": "ipython3",
      "version": "3.8.5"
    },
    "colab": {
      "provenance": []
    }
  },
  "nbformat": 4,
  "nbformat_minor": 5
}